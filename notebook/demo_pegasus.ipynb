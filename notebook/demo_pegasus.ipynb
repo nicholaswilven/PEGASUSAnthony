{
  "nbformat": 4,
  "nbformat_minor": 0,
  "metadata": {
    "colab": {
      "provenance": []
    },
    "kernelspec": {
      "name": "python3",
      "display_name": "Python 3"
    },
    "language_info": {
      "name": "python"
    }
  },
  "cells": [
    {
      "cell_type": "code",
      "execution_count": 29,
      "metadata": {
        "id": "OWwySB_iAH2p"
      },
      "outputs": [],
      "source": [
        "%%capture\n",
        "!pip install transformers"
      ]
    },
    {
      "cell_type": "code",
      "source": [
        "from transformers import TFPegasusForConditionalGeneration, PegasusTokenizerFast\n",
        "model_name = \"thonyyy/pegasus-indonesian-base_finetune\"\n",
        "model = TFPegasusForConditionalGeneration.from_pretrained(model_name)\n",
        "tokenizer = PegasusTokenizerFast.from_pretrained(model_name)"
      ],
      "metadata": {
        "id": "kc_c4md7BNlR"
      },
      "execution_count": 2,
      "outputs": []
    },
    {
      "cell_type": "code",
      "source": [
        "import re\n",
        "import unicodedata\n",
        "def text_cleaning(input_string):\n",
        "    # Main function to clean text, removes link, bullet point, non ASCII char, news headline, parantheses,\n",
        "    # punctuation except \",\" and \".\", numbers with dot (enumerating), extra whitespaces, too short sentences.\n",
        "    lowercase = input_string.lower()\n",
        "    remove_link = re.sub(r'(https?:\\/\\/)?([\\da-z\\.-]+)\\.([a-z\\.]{2,6})([\\/\\w\\.-]*)', '', lowercase).replace(\"&amp;\",\"&\")\n",
        "    remove_bullet = \"\\n\".join([T for T in remove_link.split('\\n') if '•' not in T and \"baca juga:\" not in T])\n",
        "    remove_accented = unicodedata.normalize('NFKD', remove_bullet).encode('ascii', 'ignore').decode('utf-8', 'ignore')\n",
        "    remove_parentheses = re.sub(\"([\\(\\|]).*?([\\)\\|])\", \"\\g<1>\\g<2>\", remove_accented)\n",
        "    remove_punc = re.sub(r\"[^\\w\\d.\\s]+\",' ', remove_parentheses)\n",
        "    remove_num_dot = re.sub(r\"(?<=\\d)\\.|\\.(?=\\d)|(?<=#)\\.\",\"\", remove_punc)\n",
        "    remove_extra_whitespace =  re.sub(r'^\\s*|\\s\\s*', ' ', remove_num_dot).strip()\n",
        "    return \".\".join([s for s in remove_extra_whitespace.strip().split('.') if len(s.strip())>10]).replace(\"_\",\"\")"
      ],
      "metadata": {
        "id": "FNdVvAWECCQ7"
      },
      "execution_count": 6,
      "outputs": []
    },
    {
      "cell_type": "code",
      "source": [
        "sample_article=\"\"\"\n",
        "Dana Moneter Internasional (IMF) menilai Indonesia telah menunjukkan pemulihan ekonomi yang baik pasca pandemi melalui kinerja makroekonomi yang kuat, didukung penerapan kebijakan moneter dan fiskal secara berhati-hati. Kebijakan forward looking dan sinergi telah berhasil membawa Indonesia menghadapi tantangan global pada tahun 2022 dengan pertumbuhan yang sehat, tekanan inflasi yang menurun, dan sistem keuangan yang stabil.  Bank Indonesia menyambut baik hasil asesmen IMF atas perekonomian Indonesia dalam laporan Article IV Consultation tahun 2023 yang ​dirilis hari ini (26/6).\n",
        "Dewan Direktur IMF menyampaikan apresiasi dan catatan positif terhadap berbagai kebijakan yang ditempuh otoritas Indonesia selama tahun 2022. Pertama, keberhasilan otoritas untuk kembali kepada batas maksimal defisit fiskal 3%, lebih cepat dari yang diperkirakan dan komitmen otoritas untuk menerapkan disiplin fiskal. Kedua, penerapan kebijakan moneter yang memadai untuk menjaga stabilitas harga. Ketiga, ketahanan sektor keuangan yang tetap terjaga. Keempat, penerapan UU Cipta Kerja serta UU Pengembangan dan Penguatan Sektor Keuangan, dengan memastikan implementasi yang tepat dan keberlanjutan momentum reformasi untuk mendorong kemudahan berinvestasi, meningkatkan pendalaman pasar keuangan, dan memitigasi dampak scarring dari pandemi. Kelima, strategi diversifikasi Indonesia yang fokus pada upaya hilirisasi dalam rangka meningkatkan nilai tambah ekspor. Keenam, komitmen otoritas untuk mengurangi emisi  gas rumah kaca dan deforestasi.\n",
        "\"\"\""
      ],
      "metadata": {
        "id": "fuwGarGWBtOz"
      },
      "execution_count": 7,
      "outputs": []
    },
    {
      "cell_type": "code",
      "source": [
        "x = tokenizer(text_cleaning(t), return_tensors = 'tf')\n",
        "y = model.generate(**x)\n",
        "tokenizer.batch_decode(y, skip_special_tokens=True)"
      ],
      "metadata": {
        "id": "52JUygpkCPbf"
      },
      "execution_count": 11,
      "outputs": []
    }
  ]
}